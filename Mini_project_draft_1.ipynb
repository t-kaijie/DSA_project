{
 "cells": [
  {
   "cell_type": "markdown",
   "metadata": {},
   "source": [
    "### Mini Project --- Earthquake"
   ]
  },
  {
   "cell_type": "markdown",
   "metadata": {},
   "source": [
    "# Clustering data\n",
    "Dataset from Kaggle : **\"Earthquake Damage Prediction\"**  \n",
    "Source: https://www.drivendata.org/competitions/57/nepal-earthquake/data/ (requires login)\n",
    "\n",
    "---\n",
    "\n",
    "### Essential Libraries\n",
    "\n",
    "Let us begin by importing the essential Python Libraries.\n",
    "\n",
    "> NumPy : Library for Numeric Computations in Python  \n",
    "> Pandas : Library for Data Acquisition and Preparation  \n",
    "> Matplotlib : Low-level library for Data Visualization  \n",
    "> Seaborn : Higher-level library for Data Visualization  "
   ]
  },
  {
   "cell_type": "code",
   "execution_count": null,
   "metadata": {},
   "outputs": [],
   "source": [
    "# Basic Libraries\n",
    "import numpy as np\n",
    "import pandas as pd\n",
    "import seaborn as sb\n",
    "import matplotlib.pyplot as plt # we only need pyplot\n",
    "sb.set() # set the default Seaborn style for graphics"
   ]
  },
  {
   "cell_type": "code",
   "execution_count": null,
   "metadata": {
    "scrolled": false
   },
   "outputs": [],
   "source": [
    "raw_data = pd.read_csv('train_values.csv')\n",
    "##setting building_id as the index for easy referencing\n",
    "raw_data = raw_data.set_index('building_id')\n",
    "raw_data.head()"
   ]
  },
  {
   "cell_type": "markdown",
   "metadata": {},
   "source": [
    "#### Reading up the data types so we are able to sort it out in terms of categorial, numerical data"
   ]
  },
  {
   "cell_type": "code",
   "execution_count": null,
   "metadata": {},
   "outputs": [],
   "source": [
    "raw_data.dtypes"
   ]
  },
  {
   "cell_type": "markdown",
   "metadata": {},
   "source": [
    "#### Checking for the number of values to ensure that there is no missing data"
   ]
  },
  {
   "cell_type": "code",
   "execution_count": null,
   "metadata": {},
   "outputs": [],
   "source": [
    "raw_data.info()"
   ]
  },
  {
   "cell_type": "markdown",
   "metadata": {},
   "source": [
    "#### Damage_score calculations"
   ]
  },
  {
   "cell_type": "code",
   "execution_count": null,
   "metadata": {
    "scrolled": true
   },
   "outputs": [],
   "source": [
    "variables_dropped = ['geo_level_1_id', 'geo_level_2_id','geo_level_3_id', 'legal_ownership_status',\n",
    "                    'count_families', 'has_secondary_use', 'has_secondary_use_agriculture','has_secondary_use_hotel',\n",
    "                     'has_secondary_use_rental', 'has_secondary_use_institution', 'has_secondary_use_school',\n",
    "                    'has_secondary_use_industry', 'has_secondary_use_health_post','has_secondary_use_gov_office',\n",
    "                    'has_secondary_use_use_police','has_secondary_use_other']\n",
    "score_calculation = pd.DataFrame(raw_data.drop(variables_dropped, axis=1))\n",
    "## Converting remaining data as a category type data\n",
    "#score_calculation = score_calculation.astype('category')\n",
    "score_calculation.head()\n"
   ]
  },
  {
   "cell_type": "markdown",
   "metadata": {},
   "source": [
    "### Converting the cateogrical into a rubricks, trying out for the variavle age"
   ]
  },
  {
   "cell_type": "code",
   "execution_count": null,
   "metadata": {
    "scrolled": false
   },
   "outputs": [],
   "source": [
    "## Setting up of conditions for sorting, 10 grading system\n",
    "conditions = [(score_calculation['age'] <= 20),\n",
    "              (score_calculation['age'] <= 40) & (score_calculation['age'] > 20),\n",
    "              (score_calculation['age'] <= 60) & (score_calculation['age'] > 40),\n",
    "              (score_calculation['age'] <= 80) & (score_calculation['age'] > 60),\n",
    "              (score_calculation['age'] <= 100) & (score_calculation['age'] > 80),\n",
    "              (score_calculation['age'] <= 120) & (score_calculation['age'] > 100),\n",
    "              (score_calculation['age'] <= 140) & (score_calculation['age'] > 120),\n",
    "              (score_calculation['age'] <= 160) & (score_calculation['age'] > 140),\n",
    "              (score_calculation['age'] <= 180) & (score_calculation['age'] > 160),\n",
    "              (score_calculation['age'] <= 200) & (score_calculation['age'] > 180)]\n",
    "age_score = [10,9,8,7,6,5,4,3,2,1]\n",
    "score_calculation['age_score'] = np.select(conditions,age_score)\n",
    "score_calculation.head(50)\n",
    "sb.catplot(y = \"age_score\", data = score_calculation, kind = \"count\", \n",
    "        order = score_calculation['age_score'].value_counts().index, height = 8)"
   ]
  },
  {
   "cell_type": "code",
   "execution_count": null,
   "metadata": {},
   "outputs": [],
   "source": []
  }
 ],
 "metadata": {
  "kernelspec": {
   "display_name": "Python 3",
   "language": "python",
   "name": "python3"
  },
  "language_info": {
   "codemirror_mode": {
    "name": "ipython",
    "version": 3
   },
   "file_extension": ".py",
   "mimetype": "text/x-python",
   "name": "python",
   "nbconvert_exporter": "python",
   "pygments_lexer": "ipython3",
   "version": "3.8.3"
  }
 },
 "nbformat": 4,
 "nbformat_minor": 4
}
