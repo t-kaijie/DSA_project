{
 "cells": [
  {
   "cell_type": "code",
   "execution_count": null,
   "metadata": {},
   "outputs": [],
   "source": [
    "# Basic Libraries\n",
    "import numpy as np\n",
    "import pandas as pd\n",
    "import seaborn as sb\n",
    "import matplotlib.pyplot as plt # we only need pyplot\n",
    "sb.set() # set the default Seaborn style for graphics"
   ]
  },
  {
   "cell_type": "code",
   "execution_count": null,
   "metadata": {},
   "outputs": [],
   "source": [
    "raw_data = pd.read_csv('test_values.csv')\n",
    "##setting building_id as the index for easy referencing\n",
    "#raw_data = raw_data.set_index('building_id')\n",
    "y_train = pd.read_csv('out.csv')\n",
    "#y_train = y_train.set_index('building_id')\n",
    "y_train.head()"
   ]
  },
  {
   "cell_type": "code",
   "execution_count": null,
   "metadata": {},
   "outputs": [],
   "source": [
    "geolevels = pd.DataFrame(raw_data[['building_id','geo_level_1_id']])\n",
    "geolevels['damage_grade'] = y_train['damage_grade']\n",
    "geolevels = geolevels.set_index('building_id')\n",
    "geolevels.head()"
   ]
  },
  {
   "cell_type": "code",
   "execution_count": null,
   "metadata": {},
   "outputs": [],
   "source": [
    "geolevelsdmg1 = geolevels.loc[geolevels['damage_grade'] == 1] \n",
    "geolevelsdmg2 = geolevels.loc[geolevels['damage_grade'] == 2] \n",
    "geolevelsdmg3 = geolevels.loc[geolevels['damage_grade'] == 3] \n"
   ]
  },
  {
   "cell_type": "code",
   "execution_count": null,
   "metadata": {},
   "outputs": [],
   "source": [
    "sb.catplot(x='damage_grade', data = geolevels, kind = \"count\", height = 8)\n",
    "sb.catplot(x='geo_level_1_id', data = geolevels, kind = \"count\", height = 8)\n",
    "sb.catplot(x='geo_level_1_id', data = geolevelsdmg1, kind = \"count\", height = 8)\n",
    "sb.catplot(x='geo_level_1_id', data = geolevelsdmg2, kind = \"count\", height = 8)\n",
    "sb.catplot(x='geo_level_1_id', data = geolevelsdmg3, kind = \"count\", height = 8)\n",
    "#ax = sb.swarmplot(x=\"damage_grade\", y=\"geo_level_1_id\", data=geolevels)\n",
    "#sb.swarmplot(x = 'damage_grade', y = 'geo_level_1_id', data = geolevels)"
   ]
  },
  {
   "cell_type": "markdown",
   "metadata": {},
   "source": [
    "The above graphs show the frequency of damage grades in each location, and there can definetly be seen a distinct trend in each of the damage grades for the test data.\n",
    "Firstly, the whole country was most affected with damage grade = 2, with it being the highest proportion amongst the three.\n",
    "Then the highest occurences within the \n",
    "The first point that can be noticed is that the damage grade = 2 was the most occured out of all the other others, with levelid 6 having the most occurences at 6600. The level id that was hit the hardest was 17 with the highest number of occurences in damage grade = 3, and a fairly high occurence in damage grade = 2 but very less in damage grade = 1, showing that it was quite badly hit.\n",
    "Location ID 6,7,8, 10, 21,26 and 27 were all significantly affected by damage grade = 3, with all the latter having high occurences in damage grade =2, and 26 having the largest occurence for damage grade = 1"
   ]
  },
  {
   "cell_type": "code",
   "execution_count": null,
   "metadata": {},
   "outputs": [],
   "source": [
    "cols = ['geo_level_1_id', 'Average_Damage_Grade']\n",
    "lst = []\n",
    "for count in range(31):\n",
    "    geodist = geolevels.loc[geolevels['geo_level_1_id'] == count] \n",
    "    dmg = geodist['damage_grade'].mean()\n",
    "    lst.append([count,dmg])   \n",
    "avgdamages = pd.DataFrame(lst, columns=cols)\n",
    "avgdamages.head()\n",
    "\n",
    "\n",
    "    \n",
    "#sb.distplot(houseNumData[var], color = colors[count], ax = axes[count,1])\n"
   ]
  },
  {
   "cell_type": "code",
   "execution_count": null,
   "metadata": {},
   "outputs": [],
   "source": [
    "#sb.jointplot(df1['geo_level_1_id'], df1['Average_Damage_Grade'], height = 12)\n",
    "\n",
    "ax = avgdamages.plot.bar(x='geo_level_1_id', y='Average_Damage_Grade', rot=0, figsize = (24,12))\n"
   ]
  },
  {
   "cell_type": "markdown",
   "metadata": {},
   "source": [
    "The above graph shows the average damage grade in each location, and it correlates to the catplot before"
   ]
  },
  {
   "cell_type": "code",
   "execution_count": null,
   "metadata": {},
   "outputs": [],
   "source": [
    "industry = pd.DataFrame(raw_data[['building_id','has_secondary_use','has_secondary_use_agriculture','has_secondary_use_hotel',\n",
    "                     'has_secondary_use_rental', 'has_secondary_use_institution', 'has_secondary_use_school',\n",
    "                    'has_secondary_use_industry', 'has_secondary_use_health_post','has_secondary_use_gov_office',\n",
    "                    'has_secondary_use_use_police','has_secondary_use_other']])\n",
    "industry['damage_grade'] = y_train['damage_grade']\n",
    "industry = industry.set_index('building_id')\n",
    "industry.head()"
   ]
  },
  {
   "cell_type": "code",
   "execution_count": null,
   "metadata": {},
   "outputs": [],
   "source": [
    "has_use =industry.loc[industry['has_secondary_use'] == 1] \n",
    "coldrop = ['has_secondary_use']\n",
    "has_use = pd.DataFrame(has_use.drop(coldrop, axis=1))\n",
    "has_use.info()"
   ]
  },
  {
   "cell_type": "markdown",
   "metadata": {},
   "source": [
    "alst = []\n",
    "for x in has_use:\n",
    "    if x == 'damage_grade':\n",
    "        break\n",
    "    bools = has_use.loc[has_use[x]==1]\n",
    "    freq = bools[has_use[x]].count()\n",
    "    colls = ['IndustryName','Freq']\n",
    "    alst.append([x,freq])\n",
    "freqcount = pd.DataFrame (alst, columns=colls)\n",
    "freqcount.head()\n"
   ]
  },
  {
   "cell_type": "code",
   "execution_count": null,
   "metadata": {},
   "outputs": [],
   "source": [
    "industry_grade_1={'agriculture': 0,\n",
    "                'hotel' :0,\n",
    "                'rental':0,\n",
    "                'institution' : 0,\n",
    "                'school' : 0,\n",
    "                'industry' :0, \n",
    "                'health_post': 0,\n",
    "                'gov_office': 0,\n",
    "                'police': 0,\n",
    "               'other_uses' :0}\n",
    "\n",
    "industry_grade_2={'agriculture': 0,\n",
    "                'hotel' :0,\n",
    "                'rental':0,\n",
    "                'institution' : 0,\n",
    "                'school' : 0,\n",
    "                'industry' :0, \n",
    "                'health_post': 0,\n",
    "                'gov_office': 0,\n",
    "                'police': 0,\n",
    "               'other_uses' :0}\n",
    "\n",
    "industry_grade_3={'agriculture': 0,\n",
    "                'hotel' :0,\n",
    "                'rental':0,\n",
    "                'institution' : 0,\n",
    "                'school' : 0,\n",
    "                'industry' :0, \n",
    "                'health_post': 0,\n",
    "                'gov_office': 0,\n",
    "                'police': 0,\n",
    "               'other_uses' :0}\n",
    "\n"
   ]
  },
  {
   "cell_type": "markdown",
   "metadata": {},
   "source": [
    "###### Defination to create a industrial checker"
   ]
  },
  {
   "cell_type": "code",
   "execution_count": null,
   "metadata": {},
   "outputs": [],
   "source": [
    "industry_list = ['has_secondary_use_agriculture', 'has_secondary_use_hotel', 'has_secondary_use_rental', 'has_secondary_use_institution',\n",
    "                'has_secondary_use_school', 'has_secondary_use_health_post', 'has_secondary_use_gov_office', \n",
    "                'has_secondary_use_use_police', 'has_secondary_use_other']\n",
    "\n",
    "def industrial_checker(dictionary_grade,dataframe):\n",
    "    count = 0 \n",
    "    for i in range(len(dataframe)):\n",
    "        for industry in industry_list:\n",
    "            if dataframe[industry].iloc[i] == 1:\n",
    "                if industry == 'has_secondary_use_agriculture':\n",
    "                    dictionary_grade['agriculture'] += 1\n",
    "                elif industry == 'has_secondary_use_hotel':\n",
    "                    dictionary_grade['hotel'] += 1\n",
    "                elif industry == 'has_secondary_use_rental':\n",
    "                    dictionary_grade['rental'] += 1\n",
    "                elif industry == 'has_secondary_use_institution' :\n",
    "                    dictionary_grade['institution'] += 1\n",
    "                elif industry == 'has_secondary_use_school':\n",
    "                    dictionary_grade['school'] += 1\n",
    "                elif industry == 'has_secondary_use_health_post':\n",
    "                    dictionary_grade['health_post'] += 1\n",
    "                elif industry == 'has_secondary_use_gov_office':\n",
    "                    dictionary_grade['gov_office'] += 1\n",
    "                elif industry == 'has_secondary_use_use_police':\n",
    "                    dictionary_grade['police'] += 1\n",
    "                else:\n",
    "                    dictionary_grade['other_uses'] += 1\n",
    "        count += 1\n",
    "                "
   ]
  },
  {
   "cell_type": "code",
   "execution_count": 70,
   "metadata": {
    "scrolled": false
   },
   "outputs": [
    {
     "name": "stdout",
     "output_type": "stream",
     "text": [
      "The Sectors being hit with damage 1\n",
      "{'agriculture': 552, 'hotel': 3024, 'rental': 1152, 'institution': 164, 'school': 44, 'industry': 0, 'health_post': 12, 'gov_office': 24, 'police': 4, 'other_uses': 140} \n",
      "\n",
      "The Sectors being hit with damage 2\n",
      "{'agriculture': 17556, 'hotel': 7400, 'rental': 1508, 'institution': 152, 'school': 72, 'industry': 0, 'health_post': 24, 'gov_office': 16, 'police': 4, 'other_uses': 1272} \n",
      "\n",
      "The Sectors being hit with damage 3\n",
      "{'agriculture': 4164, 'hotel': 1344, 'rental': 204, 'institution': 36, 'school': 12, 'industry': 0, 'health_post': 0, 'gov_office': 0, 'police': 8, 'other_uses': 292} \n",
      "\n"
     ]
    }
   ],
   "source": [
    "#has_use_1.head()\n",
    "#print(has_use_1['has_secondary_use_agriculture'].iloc[0])\n",
    "has_use_1 = pd.DataFrame(has_use[has_use['damage_grade'] == 1])\n",
    "has_use_2 = pd.DataFrame(has_use[has_use['damage_grade'] == 2])\n",
    "has_use_3 = pd.DataFrame(has_use[has_use['damage_grade'] == 3])\n",
    "industrial_checker(industry_grade_1,has_use_1)\n",
    "industrial_checker(industry_grade_2,has_use_2)\n",
    "industrial_checker(industry_grade_3,has_use_3)\n",
    "\n",
    "dict_list = [industry_grade_1,industry_grade_2,industry_grade_3]\n",
    "counter= 1\n",
    "\n",
    "for dictonary_call_out in dict_list:\n",
    "    print('The Sectors being hit with damage {}'.format(counter))\n",
    "    print(dictonary_call_out, '\\n')\n",
    "    counter += 1\n",
    "               "
   ]
  },
  {
   "cell_type": "code",
   "execution_count": null,
   "metadata": {},
   "outputs": [],
   "source": [
    "lst = []\n",
    "for x in has_use:\n",
    "    if x == 'damage_grade':\n",
    "        break\n",
    "    boolean = has_use.loc[has_use[x] == 1] \n",
    "    dmg = boolean['damage_grade'].mean()\n",
    "    cols = ['Industry_Name', 'Average_Damage_Grade']\n",
    "    lst.append([x,dmg]) \n",
    "avgdamages = pd.DataFrame(lst, columns=cols)\n",
    "avgdamages.head() \n",
    "\n",
    "        \n",
    "        \n"
   ]
  },
  {
   "cell_type": "code",
   "execution_count": null,
   "metadata": {},
   "outputs": [],
   "source": [
    "ax = avgdamages.plot.bar(x='Industry_Name', y='Average_Damage_Grade', rot=0, figsize = (24,12))\n",
    "        \n"
   ]
  }
 ],
 "metadata": {
  "kernelspec": {
   "display_name": "Python 3",
   "language": "python",
   "name": "python3"
  },
  "language_info": {
   "codemirror_mode": {
    "name": "ipython",
    "version": 3
   },
   "file_extension": ".py",
   "mimetype": "text/x-python",
   "name": "python",
   "nbconvert_exporter": "python",
   "pygments_lexer": "ipython3",
   "version": "3.8.5"
  }
 },
 "nbformat": 4,
 "nbformat_minor": 4
}
